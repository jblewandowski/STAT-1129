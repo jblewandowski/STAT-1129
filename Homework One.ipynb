{
 "cells": [
  {
   "cell_type": "code",
   "execution_count": 1,
   "metadata": {},
   "outputs": [
    {
     "name": "stdout",
     "output_type": "stream",
     "text": [
      "[65, 60, 55, 50, 45, 40, 35, 30]\n"
     ]
    }
   ],
   "source": [
    "list1 = list(range(30, 61, 5))\n",
    "\n",
    "list1.reverse()\n",
    "\n",
    "list1.insert(0, 65)\n",
    "\n",
    "print(list1)"
   ]
  },
  {
   "cell_type": "code",
   "execution_count": 10,
   "metadata": {},
   "outputs": [
    {
     "name": "stdout",
     "output_type": "stream",
     "text": [
      "Length = 20 \n",
      "Min = 1 \n",
      "Max = 20\n",
      "Sum = 210\n"
     ]
    }
   ],
   "source": [
    "list2 = []\n",
    "\n",
    "list2.extend(range(21))\n",
    "\n",
    "list2.remove(0)\n",
    "\n",
    "print('Length = '+str(len(list2)), '\\nMin = '+str(min(list2)), '\\nMax = '+str(max(list2)))\n",
    "\n",
    "print('Sum = '+str(sum(list2)))\n"
   ]
  },
  {
   "cell_type": "code",
   "execution_count": 13,
   "metadata": {},
   "outputs": [
    {
     "name": "stdout",
     "output_type": "stream",
     "text": [
      "When it is sunny let us play.\n",
      "When it is sainy let us watch TV.\n",
      "When it is cloudy let us walk.\n"
     ]
    }
   ],
   "source": [
    "dict1 = {\n",
    "    'sunny' : 'play',\n",
    "    'sainy' : 'watch TV',\n",
    "    'cloudy' : 'walk'\n",
    "    }\n",
    "\n",
    "for weather, activity in dict1.items():\n",
    "    print('When it is '+weather+' let us '+activity+'.')\n",
    "\n",
    "dict1['snowy'] = 'ski'"
   ]
  }
 ],
 "metadata": {
  "kernelspec": {
   "display_name": "Python 3.10.5 64-bit",
   "language": "python",
   "name": "python3"
  },
  "language_info": {
   "codemirror_mode": {
    "name": "ipython",
    "version": 3
   },
   "file_extension": ".py",
   "mimetype": "text/x-python",
   "name": "python",
   "nbconvert_exporter": "python",
   "pygments_lexer": "ipython3",
   "version": "3.10.5"
  },
  "orig_nbformat": 4,
  "vscode": {
   "interpreter": {
    "hash": "0c2395646776e072f3be3e8558b820412ee81ee82294af8d268b844065d2c627"
   }
  }
 },
 "nbformat": 4,
 "nbformat_minor": 2
}
