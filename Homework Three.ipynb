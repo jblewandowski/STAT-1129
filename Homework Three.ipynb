{
 "cells": [
  {
   "cell_type": "code",
   "execution_count": 3,
   "metadata": {},
   "outputs": [
    {
     "name": "stdout",
     "output_type": "stream",
     "text": [
      "Jake not found\n"
     ]
    }
   ],
   "source": [
    "marks = {'Andy':88, 'Amy':66, 'James': 90, 'Jules': 55, 'Arthur': 77}\n",
    "\n",
    "def func_1(name):\n",
    "    try:\n",
    "        return marks[name]\n",
    "    except:\n",
    "        print(name+' not found')\n",
    "\n",
    "func_1('Andy')\n",
    "func_1('Jake')\n",
    "\n",
    "def func_2(a):\n",
    "    list_1 = list(a)\n",
    "    return "
   ]
  }
 ],
 "metadata": {
  "kernelspec": {
   "display_name": "Python 3.10.5 64-bit",
   "language": "python",
   "name": "python3"
  },
  "language_info": {
   "codemirror_mode": {
    "name": "ipython",
    "version": 3
   },
   "file_extension": ".py",
   "mimetype": "text/x-python",
   "name": "python",
   "nbconvert_exporter": "python",
   "pygments_lexer": "ipython3",
   "version": "3.10.5"
  },
  "orig_nbformat": 4,
  "vscode": {
   "interpreter": {
    "hash": "0c2395646776e072f3be3e8558b820412ee81ee82294af8d268b844065d2c627"
   }
  }
 },
 "nbformat": 4,
 "nbformat_minor": 2
}
