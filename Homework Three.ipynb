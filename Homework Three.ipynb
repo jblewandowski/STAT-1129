{
 "cells": [
  {
   "cell_type": "code",
   "execution_count": 19,
   "metadata": {},
   "outputs": [
    {
     "name": "stdout",
     "output_type": "stream",
     "text": [
      "88\n",
      "Jake not found\n"
     ]
    },
    {
     "data": {
      "text/plain": [
       "75.2"
      ]
     },
     "execution_count": 19,
     "metadata": {},
     "output_type": "execute_result"
    }
   ],
   "source": [
    "marks = {'Andy': 88, 'Amy': 66, 'James': 90, 'Jules': 55, 'Arthur': 77}\n",
    "\n",
    "# Q1\n",
    "def func_1(name):\n",
    "    try:\n",
    "        return marks[name]\n",
    "    except:\n",
    "        print(name+' not found')\n",
    "\n",
    "print(func_1('Andy'))\n",
    "func_1('Jake')\n",
    "\n",
    "# Q2\n",
    "def func_2(a):\n",
    "    return sum(a) / len(a)\n",
    "\n",
    "func_2(marks.values())"
   ]
  },
  {
   "cell_type": "code",
   "execution_count": 20,
   "metadata": {},
   "outputs": [
    {
     "name": "stdout",
     "output_type": "stream",
     "text": [
      "0 0\n",
      "1 1\n",
      "2 4\n",
      "3 9\n",
      "4 16\n",
      "5 25\n",
      "6 36\n",
      "7 49\n",
      "Greater than 8\n"
     ]
    }
   ],
   "source": [
    "def func_3(num):\n",
    "    n = 0\n",
    "    while n < num:\n",
    "        n += 1\n",
    "        print(n, n**2)\n",
    "    else:\n",
    "        print('Greater than', num)\n",
    "\n",
    "func_3(8)"
   ]
  },
  {
   "cell_type": "code",
   "execution_count": 23,
   "metadata": {},
   "outputs": [
    {
     "name": "stdout",
     "output_type": "stream",
     "text": [
      "36\n"
     ]
    }
   ],
   "source": [
    "def func_4(num):\n",
    "    i = 1\n",
    "    s = 0\n",
    "    while i <= num:\n",
    "        s += i\n",
    "        i += 1\n",
    "    print(s)\n",
    "\n",
    "func_4(8)"
   ]
  },
  {
   "cell_type": "code",
   "execution_count": 24,
   "metadata": {},
   "outputs": [
    {
     "name": "stdout",
     "output_type": "stream",
     "text": [
      "36\n"
     ]
    }
   ],
   "source": [
    "def func_5(num):\n",
    "    s = 0\n",
    "    for i in range(num):\n",
    "        s += i + 1\n",
    "    print(s)\n",
    "\n",
    "func_5(8)"
   ]
  },
  {
   "cell_type": "code",
   "execution_count": 34,
   "metadata": {},
   "outputs": [
    {
     "name": "stdout",
     "output_type": "stream",
     "text": [
      "9\n"
     ]
    }
   ],
   "source": [
    "def minimal (v1, v2, v3, v4):\n",
    "    a = [v2, v3, v4]\n",
    "    min = v1\n",
    "    for i in a:\n",
    "        if i < min:\n",
    "            min = i\n",
    "    print(min)\n",
    "\n",
    "minimal(53, 9, 26, 15)"
   ]
  },
  {
   "cell_type": "code",
   "execution_count": 25,
   "metadata": {},
   "outputs": [
    {
     "name": "stdout",
     "output_type": "stream",
     "text": [
      "concatenated\n"
     ]
    }
   ],
   "source": [
    "def func_6(a, b, c):\n",
    "    print(a+b+c)\n",
    "\n",
    "func_6('conc', 'aten', 'ated')"
   ]
  }
 ],
 "metadata": {
  "kernelspec": {
   "display_name": "Python 3.10.5 64-bit",
   "language": "python",
   "name": "python3"
  },
  "language_info": {
   "codemirror_mode": {
    "name": "ipython",
    "version": 3
   },
   "file_extension": ".py",
   "mimetype": "text/x-python",
   "name": "python",
   "nbconvert_exporter": "python",
   "pygments_lexer": "ipython3",
   "version": "3.10.5"
  },
  "orig_nbformat": 4,
  "vscode": {
   "interpreter": {
    "hash": "0c2395646776e072f3be3e8558b820412ee81ee82294af8d268b844065d2c627"
   }
  }
 },
 "nbformat": 4,
 "nbformat_minor": 2
}
