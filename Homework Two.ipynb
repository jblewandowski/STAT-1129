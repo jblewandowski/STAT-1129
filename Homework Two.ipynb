{
 "cells": [
  {
   "cell_type": "code",
   "execution_count": 1,
   "metadata": {},
   "outputs": [
    {
     "name": "stdout",
     "output_type": "stream",
     "text": [
      "0\n",
      "1\n",
      "2\n",
      "3\n",
      "4\n"
     ]
    }
   ],
   "source": [
    "n = 0\n",
    "while n < 5:\n",
    "    print(n)\n",
    "    n += 1"
   ]
  },
  {
   "cell_type": "code",
   "execution_count": 2,
   "metadata": {},
   "outputs": [
    {
     "name": "stdout",
     "output_type": "stream",
     "text": [
      "0\n",
      "1\n",
      "2\n",
      "3\n",
      "4\n",
      "5 is not less than 5\n"
     ]
    }
   ],
   "source": [
    "n = 0\n",
    "while n < 5:\n",
    "    print(n)\n",
    "    n += 1\n",
    "else:\n",
    "    print(n, 'is not less than 5')"
   ]
  },
  {
   "cell_type": "code",
   "execution_count": 3,
   "metadata": {},
   "outputs": [
    {
     "name": "stdout",
     "output_type": "stream",
     "text": [
      "I like orange\n",
      "I like banana\n",
      "apple is really a fruit?\n"
     ]
    }
   ],
   "source": [
    "fruits = ['orange', 'banana', 'apple']\n",
    "\n",
    "for fruit in fruits:\n",
    "    if fruit == 'apple':\n",
    "        print('apple is really a fruit?')\n",
    "        break\n",
    "    else:\n",
    "        print('I like', fruit)"
   ]
  },
  {
   "cell_type": "code",
   "execution_count": 4,
   "metadata": {},
   "outputs": [
    {
     "name": "stdout",
     "output_type": "stream",
     "text": [
      "465\n"
     ]
    }
   ],
   "source": [
    "s = 0\n",
    "i = 0\n",
    "while i <= 30:\n",
    "    s += i\n",
    "    i += 1\n",
    "print(s)"
   ]
  },
  {
   "cell_type": "code",
   "execution_count": 5,
   "metadata": {},
   "outputs": [
    {
     "name": "stdout",
     "output_type": "stream",
     "text": [
      "F\n"
     ]
    }
   ],
   "source": [
    "grade = 55\n",
    "\n",
    "if grade >= 90:\n",
    "    letter = 'A'\n",
    "elif grade >= 80:\n",
    "    letter = 'B'\n",
    "elif grade >= 70:\n",
    "    letter = 'C'\n",
    "elif grade >= 60:\n",
    "    letter = 'D'\n",
    "else:\n",
    "    letter = 'F'\n",
    "print(letter)"
   ]
  },
  {
   "cell_type": "code",
   "execution_count": 2,
   "metadata": {},
   "outputs": [
    {
     "name": "stdout",
     "output_type": "stream",
     "text": [
      "Andy's grade is 88\n",
      "Amy's grade is 66\n",
      "James's grade is 90\n",
      "Jules's grade is 55\n",
      "Arthur's grade is 77\n",
      "\n",
      "The mean grade is 75.2\n",
      "The highest grade is 90\n",
      "The lowest grade is 55 \n",
      "\n",
      "Andy\n",
      "Amy\n",
      "\n",
      "Andy\n",
      "Amy\n",
      "Arthur\n"
     ]
    }
   ],
   "source": [
    "import numpy as np\n",
    "marks = {'Andy':88, 'Amy':66, 'James': 90, 'Jules': 55, 'Arthur': 77}\n",
    "grades = list(marks.values())\n",
    "\n",
    "for name, grade in marks.items():\n",
    "    print(name+\"'s grade is\", grade)\n",
    "\n",
    "mean, max, min = np.mean(grades), np.max(grades), np.min(grades)\n",
    "print('\\nThe mean grade is', mean)\n",
    "print('The highest grade is', max)\n",
    "print('The lowest grade is', min, '\\n')\n",
    "\n",
    "for key in marks.keys():\n",
    "    if 'J' in key:\n",
    "        break\n",
    "    print(key)\n",
    "\n",
    "print()\n",
    "for key in marks.keys():\n",
    "    if 'J' in key:\n",
    "        continue\n",
    "    print(key)"
   ]
  }
 ],
 "metadata": {
  "kernelspec": {
   "display_name": "Python 3.10.5 64-bit",
   "language": "python",
   "name": "python3"
  },
  "language_info": {
   "codemirror_mode": {
    "name": "ipython",
    "version": 3
   },
   "file_extension": ".py",
   "mimetype": "text/x-python",
   "name": "python",
   "nbconvert_exporter": "python",
   "pygments_lexer": "ipython3",
   "version": "3.10.5"
  },
  "orig_nbformat": 4,
  "vscode": {
   "interpreter": {
    "hash": "0c2395646776e072f3be3e8558b820412ee81ee82294af8d268b844065d2c627"
   }
  }
 },
 "nbformat": 4,
 "nbformat_minor": 2
}
